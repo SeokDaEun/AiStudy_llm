{
 "cells": [
  {
   "cell_type": "code",
   "execution_count": 1,
   "metadata": {},
   "outputs": [
    {
     "name": "stdout",
     "output_type": "stream",
     "text": [
      "Requirement already satisfied: python-dotenv in c:\\users\\softone\\llm-test\\.venv\\lib\\site-packages (1.0.1)\n",
      "Collecting langchain-upstage\n",
      "  Downloading langchain_upstage-0.6.0-py3-none-any.whl.metadata (3.3 kB)\n",
      "Requirement already satisfied: langchain-core<0.4.0,>=0.3.29 in c:\\users\\softone\\llm-test\\.venv\\lib\\site-packages (from langchain-upstage) (0.3.35)\n",
      "Requirement already satisfied: langchain-openai<0.4,>=0.3 in c:\\users\\softone\\llm-test\\.venv\\lib\\site-packages (from langchain-upstage) (0.3.6)\n",
      "Collecting pypdf<5.0.0,>=4.2.0 (from langchain-upstage)\n",
      "  Downloading pypdf-4.3.1-py3-none-any.whl.metadata (7.4 kB)\n",
      "Requirement already satisfied: requests<3.0.0,>=2.31.0 in c:\\users\\softone\\llm-test\\.venv\\lib\\site-packages (from langchain-upstage) (2.32.3)\n",
      "Collecting tokenizers<0.20.0,>=0.19.1 (from langchain-upstage)\n",
      "  Downloading tokenizers-0.19.1-cp39-none-win_amd64.whl.metadata (6.9 kB)\n",
      "Requirement already satisfied: langsmith<0.4,>=0.1.125 in c:\\users\\softone\\llm-test\\.venv\\lib\\site-packages (from langchain-core<0.4.0,>=0.3.29->langchain-upstage) (0.3.8)\n",
      "Requirement already satisfied: tenacity!=8.4.0,<10.0.0,>=8.1.0 in c:\\users\\softone\\llm-test\\.venv\\lib\\site-packages (from langchain-core<0.4.0,>=0.3.29->langchain-upstage) (9.0.0)\n",
      "Requirement already satisfied: jsonpatch<2.0,>=1.33 in c:\\users\\softone\\llm-test\\.venv\\lib\\site-packages (from langchain-core<0.4.0,>=0.3.29->langchain-upstage) (1.33)\n",
      "Requirement already satisfied: PyYAML>=5.3 in c:\\users\\softone\\llm-test\\.venv\\lib\\site-packages (from langchain-core<0.4.0,>=0.3.29->langchain-upstage) (6.0.2)\n",
      "Requirement already satisfied: packaging<25,>=23.2 in c:\\users\\softone\\llm-test\\.venv\\lib\\site-packages (from langchain-core<0.4.0,>=0.3.29->langchain-upstage) (24.2)\n",
      "Requirement already satisfied: typing-extensions>=4.7 in c:\\users\\softone\\llm-test\\.venv\\lib\\site-packages (from langchain-core<0.4.0,>=0.3.29->langchain-upstage) (4.12.2)\n",
      "Requirement already satisfied: pydantic<3.0.0,>=2.5.2 in c:\\users\\softone\\llm-test\\.venv\\lib\\site-packages (from langchain-core<0.4.0,>=0.3.29->langchain-upstage) (2.10.6)\n",
      "Requirement already satisfied: openai<2.0.0,>=1.58.1 in c:\\users\\softone\\llm-test\\.venv\\lib\\site-packages (from langchain-openai<0.4,>=0.3->langchain-upstage) (1.63.2)\n",
      "Requirement already satisfied: tiktoken<1,>=0.7 in c:\\users\\softone\\llm-test\\.venv\\lib\\site-packages (from langchain-openai<0.4,>=0.3->langchain-upstage) (0.9.0)\n",
      "Requirement already satisfied: charset-normalizer<4,>=2 in c:\\users\\softone\\llm-test\\.venv\\lib\\site-packages (from requests<3.0.0,>=2.31.0->langchain-upstage) (3.4.1)\n",
      "Requirement already satisfied: idna<4,>=2.5 in c:\\users\\softone\\llm-test\\.venv\\lib\\site-packages (from requests<3.0.0,>=2.31.0->langchain-upstage) (3.10)\n",
      "Requirement already satisfied: urllib3<3,>=1.21.1 in c:\\users\\softone\\llm-test\\.venv\\lib\\site-packages (from requests<3.0.0,>=2.31.0->langchain-upstage) (2.3.0)\n",
      "Requirement already satisfied: certifi>=2017.4.17 in c:\\users\\softone\\llm-test\\.venv\\lib\\site-packages (from requests<3.0.0,>=2.31.0->langchain-upstage) (2025.1.31)\n",
      "Collecting huggingface-hub<1.0,>=0.16.4 (from tokenizers<0.20.0,>=0.19.1->langchain-upstage)\n",
      "  Downloading huggingface_hub-0.28.1-py3-none-any.whl.metadata (13 kB)\n",
      "Collecting filelock (from huggingface-hub<1.0,>=0.16.4->tokenizers<0.20.0,>=0.19.1->langchain-upstage)\n",
      "  Downloading filelock-3.17.0-py3-none-any.whl.metadata (2.9 kB)\n",
      "Collecting fsspec>=2023.5.0 (from huggingface-hub<1.0,>=0.16.4->tokenizers<0.20.0,>=0.19.1->langchain-upstage)\n",
      "  Downloading fsspec-2025.2.0-py3-none-any.whl.metadata (11 kB)\n",
      "Requirement already satisfied: tqdm>=4.42.1 in c:\\users\\softone\\llm-test\\.venv\\lib\\site-packages (from huggingface-hub<1.0,>=0.16.4->tokenizers<0.20.0,>=0.19.1->langchain-upstage) (4.67.1)\n",
      "Requirement already satisfied: jsonpointer>=1.9 in c:\\users\\softone\\llm-test\\.venv\\lib\\site-packages (from jsonpatch<2.0,>=1.33->langchain-core<0.4.0,>=0.3.29->langchain-upstage) (3.0.0)\n",
      "Requirement already satisfied: httpx<1,>=0.23.0 in c:\\users\\softone\\llm-test\\.venv\\lib\\site-packages (from langsmith<0.4,>=0.1.125->langchain-core<0.4.0,>=0.3.29->langchain-upstage) (0.28.1)\n",
      "Requirement already satisfied: orjson<4.0.0,>=3.9.14 in c:\\users\\softone\\llm-test\\.venv\\lib\\site-packages (from langsmith<0.4,>=0.1.125->langchain-core<0.4.0,>=0.3.29->langchain-upstage) (3.10.15)\n",
      "Requirement already satisfied: requests-toolbelt<2.0.0,>=1.0.0 in c:\\users\\softone\\llm-test\\.venv\\lib\\site-packages (from langsmith<0.4,>=0.1.125->langchain-core<0.4.0,>=0.3.29->langchain-upstage) (1.0.0)\n",
      "Requirement already satisfied: zstandard<0.24.0,>=0.23.0 in c:\\users\\softone\\llm-test\\.venv\\lib\\site-packages (from langsmith<0.4,>=0.1.125->langchain-core<0.4.0,>=0.3.29->langchain-upstage) (0.23.0)\n",
      "Requirement already satisfied: anyio<5,>=3.5.0 in c:\\users\\softone\\llm-test\\.venv\\lib\\site-packages (from openai<2.0.0,>=1.58.1->langchain-openai<0.4,>=0.3->langchain-upstage) (4.8.0)\n",
      "Requirement already satisfied: distro<2,>=1.7.0 in c:\\users\\softone\\llm-test\\.venv\\lib\\site-packages (from openai<2.0.0,>=1.58.1->langchain-openai<0.4,>=0.3->langchain-upstage) (1.9.0)\n",
      "Requirement already satisfied: jiter<1,>=0.4.0 in c:\\users\\softone\\llm-test\\.venv\\lib\\site-packages (from openai<2.0.0,>=1.58.1->langchain-openai<0.4,>=0.3->langchain-upstage) (0.8.2)\n",
      "Requirement already satisfied: sniffio in c:\\users\\softone\\llm-test\\.venv\\lib\\site-packages (from openai<2.0.0,>=1.58.1->langchain-openai<0.4,>=0.3->langchain-upstage) (1.3.1)\n",
      "Requirement already satisfied: annotated-types>=0.6.0 in c:\\users\\softone\\llm-test\\.venv\\lib\\site-packages (from pydantic<3.0.0,>=2.5.2->langchain-core<0.4.0,>=0.3.29->langchain-upstage) (0.7.0)\n",
      "Requirement already satisfied: pydantic-core==2.27.2 in c:\\users\\softone\\llm-test\\.venv\\lib\\site-packages (from pydantic<3.0.0,>=2.5.2->langchain-core<0.4.0,>=0.3.29->langchain-upstage) (2.27.2)\n",
      "Requirement already satisfied: regex>=2022.1.18 in c:\\users\\softone\\llm-test\\.venv\\lib\\site-packages (from tiktoken<1,>=0.7->langchain-openai<0.4,>=0.3->langchain-upstage) (2024.11.6)\n",
      "Requirement already satisfied: exceptiongroup>=1.0.2 in c:\\users\\softone\\llm-test\\.venv\\lib\\site-packages (from anyio<5,>=3.5.0->openai<2.0.0,>=1.58.1->langchain-openai<0.4,>=0.3->langchain-upstage) (1.2.2)\n",
      "Requirement already satisfied: httpcore==1.* in c:\\users\\softone\\llm-test\\.venv\\lib\\site-packages (from httpx<1,>=0.23.0->langsmith<0.4,>=0.1.125->langchain-core<0.4.0,>=0.3.29->langchain-upstage) (1.0.7)\n",
      "Requirement already satisfied: h11<0.15,>=0.13 in c:\\users\\softone\\llm-test\\.venv\\lib\\site-packages (from httpcore==1.*->httpx<1,>=0.23.0->langsmith<0.4,>=0.1.125->langchain-core<0.4.0,>=0.3.29->langchain-upstage) (0.14.0)\n",
      "Requirement already satisfied: colorama in c:\\users\\softone\\llm-test\\.venv\\lib\\site-packages (from tqdm>=4.42.1->huggingface-hub<1.0,>=0.16.4->tokenizers<0.20.0,>=0.19.1->langchain-upstage) (0.4.6)\n",
      "Downloading langchain_upstage-0.6.0-py3-none-any.whl (20 kB)\n",
      "Downloading pypdf-4.3.1-py3-none-any.whl (295 kB)\n",
      "Downloading tokenizers-0.19.1-cp39-none-win_amd64.whl (2.2 MB)\n",
      "   ---------------------------------------- 0.0/2.2 MB ? eta -:--:--\n",
      "   ---------------------------------------- 2.2/2.2 MB 31.1 MB/s eta 0:00:00\n",
      "Downloading huggingface_hub-0.28.1-py3-none-any.whl (464 kB)\n",
      "Downloading fsspec-2025.2.0-py3-none-any.whl (184 kB)\n",
      "Downloading filelock-3.17.0-py3-none-any.whl (16 kB)\n",
      "Installing collected packages: pypdf, fsspec, filelock, huggingface-hub, tokenizers, langchain-upstage\n",
      "Successfully installed filelock-3.17.0 fsspec-2025.2.0 huggingface-hub-0.28.1 langchain-upstage-0.6.0 pypdf-4.3.1 tokenizers-0.19.1\n",
      "Note: you may need to restart the kernel to use updated packages.\n"
     ]
    }
   ],
   "source": [
    "%pip install python-dotenv langchain-upstage"
   ]
  },
  {
   "cell_type": "code",
   "execution_count": 2,
   "metadata": {},
   "outputs": [
    {
     "data": {
      "text/plain": [
       "True"
      ]
     },
     "execution_count": 2,
     "metadata": {},
     "output_type": "execute_result"
    }
   ],
   "source": [
    "from dotenv import load_dotenv\n",
    "\n",
    "load_dotenv()"
   ]
  },
  {
   "cell_type": "code",
   "execution_count": 3,
   "metadata": {},
   "outputs": [],
   "source": [
    "from langchain_upstage import ChatUpstage\n",
    "\n",
    "llm = ChatUpstage()\n",
    "ai_message = llm.invoke(\"인프런에 어떤 강의가 있나요?\")"
   ]
  },
  {
   "cell_type": "code",
   "execution_count": 4,
   "metadata": {},
   "outputs": [
    {
     "data": {
      "text/plain": [
       "'인프런은 다양한 분야의 온라인 강의를 제공하는 플랫폼입니다. 강의는 여러 카테고리로 나뉘어져 있으며, 주요 카테고리에는 다음과 같은 주제들이 있습니다:\\n\\n1. 프로그래밍: Python, JavaScript, Java, C++ 등의 프로그래밍 언어를 배울 수 있는 강의가 있습니다. 또한, 웹 개발, 알고리즘, 데이터 구조 등 다양한 프로그래밍 관련 주제도 다루고 있습니다.\\n\\n2. 데이터 사이언스: 데이터 분석, 머신러닝, 딥러닝, 통계학 등 데이터 관련 기술에 대한 강의를 제공합니다. Python과 R을 사용한 데이터 분석 도구와 라이브러리도 다룹니다.\\n\\n3. 클라우드 컴퓨팅: AWS, Azure, Google Cloud 등 클라우드 플랫폼에 대한 강의가 있습니다. 클라우드 인프라 구축, 관리, 보안 등에 대한 내용을 다룹니다.\\n\\n4. 비즈니스: 마케팅, 재무, 경영 전략, 리더십 등 비즈니스 관련 주제에 대한 강의가 있습니다. 실무에서 바로 적용할 수 있는 도구와 기법을 배울 수 있습니다.\\n\\n5. 디자인: 그래픽 디자인, UI/UX 디자인, 웹 디자인 등 디자인 관련 강의가 있습니다. Adobe Creative Suite와 같은 도구를 활용한 강의도 제공됩니다.\\n\\n6. 오디오/영상: 음악 제작, 영상 편집, 팟캐스트 등 오디오와 영상 관련 주제에 대한 강의가 있습니다. Adobe Premiere Pro, Ableton Live 등의 도구를 다룹니다.\\n\\n7. 게임 개발: Unity, Unreal Engine 등을 사용한 게임 개발 강의가 있습니다. 2D 및 3D 게임 개발, 모바일 게임 개발 등을 다룹니다.\\n\\n8. 보안: 사이버 보안, 네트워크 보안, 암호학 등 보안 관련 주제에 대한 강의가 있습니다. 실제 보안 문제와 해결 방법을 다룹니다.\\n\\n이 외에도 인프런에서는 다양한 분야의 강의가 개설되고 있으니, 관심 있는 주제를 검색하여 찾아보실 수 있습니다.'"
      ]
     },
     "execution_count": 4,
     "metadata": {},
     "output_type": "execute_result"
    }
   ],
   "source": [
    "ai_message.content"
   ]
  },
  {
   "cell_type": "code",
   "execution_count": null,
   "metadata": {},
   "outputs": [],
   "source": []
  }
 ],
 "metadata": {
  "kernelspec": {
   "display_name": ".venv",
   "language": "python",
   "name": "python3"
  },
  "language_info": {
   "codemirror_mode": {
    "name": "ipython",
    "version": 3
   },
   "file_extension": ".py",
   "mimetype": "text/x-python",
   "name": "python",
   "nbconvert_exporter": "python",
   "pygments_lexer": "ipython3",
   "version": "3.9.13"
  }
 },
 "nbformat": 4,
 "nbformat_minor": 2
}
